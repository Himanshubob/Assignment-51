{
 "cells": [
  {
   "cell_type": "markdown",
   "id": "b8837474",
   "metadata": {},
   "source": [
    "# Q1. What is an ensemble technique in machine learning?"
   ]
  },
  {
   "cell_type": "markdown",
   "id": "9208e9cf",
   "metadata": {},
   "source": [
    "# ans.. the enseble machin learnig collection of the all weak learner  to create the strong  model \n",
    "# ensemble is the groups of the model "
   ]
  },
  {
   "cell_type": "markdown",
   "id": "9968eb7b",
   "metadata": {},
   "source": [
    "# Q2. Why are ensemble techniques used in machine learning?"
   ]
  },
  {
   "cell_type": "markdown",
   "id": "f6ef6d47",
   "metadata": {},
   "source": [
    "# ans... ensemble learnig is better perfocmense of the single model so use the ensemble techniques"
   ]
  },
  {
   "cell_type": "markdown",
   "id": "4c75040c",
   "metadata": {},
   "source": [
    "# Q3. What is bagging?"
   ]
  },
  {
   "cell_type": "markdown",
   "id": "a58ef87e",
   "metadata": {},
   "source": [
    "# Bagging, also known as bootstrap aggregation, is the ensemble learning method that is commonly used to reduce variance within a noisy dataset. In bagging, a random sample of data in a training set is selected with replacement—meaning that the individual data points can be chosen more than once."
   ]
  },
  {
   "cell_type": "markdown",
   "id": "dcda2e70",
   "metadata": {},
   "source": [
    "# Q4. What is boosting?"
   ]
  },
  {
   "cell_type": "markdown",
   "id": "0529eade",
   "metadata": {},
   "source": [
    "# Boosting is an ensemble learning method that combines a set of weak learners into a strong learner to minimize training errors. In boosting, a random sample of data is selected, fitted with a model and then trained sequentially—that is, each model tries to compensate for the weaknesses of its predecessor."
   ]
  },
  {
   "cell_type": "markdown",
   "id": "b1c388b8",
   "metadata": {},
   "source": [
    "# Q5. What are the benefits of using ensemble techniques?"
   ]
  },
  {
   "cell_type": "markdown",
   "id": "64a8f7a8",
   "metadata": {},
   "source": [
    "# ans.. bagging and boosting are two techniques of the ensemble  benefites bagging techniques"
   ]
  },
  {
   "cell_type": "markdown",
   "id": "32669b66",
   "metadata": {},
   "source": [
    "# Q6. Are ensemble techniques always better than individual models?"
   ]
  },
  {
   "cell_type": "markdown",
   "id": "85fb725c",
   "metadata": {},
   "source": [
    "# ans.. yes . individual models is not better performance ensemble techniques  is gorup performanes"
   ]
  },
  {
   "cell_type": "markdown",
   "id": "87308f5e",
   "metadata": {},
   "source": [
    "# Q7. How is the confidence interval calculated using bootstrap?"
   ]
  },
  {
   "cell_type": "markdown",
   "id": "26b9a8da",
   "metadata": {},
   "source": [
    "# asn...Start with resampling with replacement from original data n times.\n",
    "# For each bootstrap calculate mean x*.\n",
    "# Compute δ* = x* − x for each bootstrap sample (x is mean of original data), sort them from smallest to biggest.\n",
    "# Choose δ. 1 as the 90th percentile, δ."
   ]
  },
  {
   "cell_type": "markdown",
   "id": "e3d9cfc7",
   "metadata": {},
   "source": [
    "# Q8. How does bootstrap work and What are the steps involved in bootstrap?"
   ]
  },
  {
   "cell_type": "markdown",
   "id": "22f36496",
   "metadata": {},
   "source": [
    "# Choose a number of bootstrap samples to perform.\n",
    "# Choose a sample size.\n",
    "# For each bootstrap sample. Draw a sample with replacement with the chosen size. Calculate the statistic on the sample.\n",
    "# Calculate the mean of the calculated sample statistics."
   ]
  },
  {
   "cell_type": "markdown",
   "id": "dab48751",
   "metadata": {},
   "source": [
    "# Q9. A researcher wants to estimate the mean height of a population of trees. They measure the height of a sample of 50 trees and obtain a mean height of 15 meters and a standard deviation of 2 meters. Use bootstrap to estimate the 95% confidence interval for the population mean height."
   ]
  },
  {
   "cell_type": "markdown",
   "id": "dd3b97ab",
   "metadata": {},
   "source": [
    "# Collect the sample data:\n",
    "# The researcher measured the height of 50 trees, and the sample mean (x_)is 15 meters, and the sample standard deviation (s) is 2 meters.Perform the Bootstrap Resampling:Bootstrap resampling involves drawing multiple samples with replacement from the original sample. Here, you'll generate a large number of bootstrap samples.Calculate the Bootstrap Sample MeansFor each bootstrap sample, calculate the mean height.Construct the Confidence Interval:Determine the 2.5th and 97.5th percentiles of the bootstrap sample means. These values will be used to create the 95% confidence interval."
   ]
  },
  {
   "cell_type": "code",
   "execution_count": null,
   "id": "2daccdfb",
   "metadata": {},
   "outputs": [],
   "source": []
  }
 ],
 "metadata": {
  "kernelspec": {
   "display_name": "Python 3 (ipykernel)",
   "language": "python",
   "name": "python3"
  },
  "language_info": {
   "codemirror_mode": {
    "name": "ipython",
    "version": 3
   },
   "file_extension": ".py",
   "mimetype": "text/x-python",
   "name": "python",
   "nbconvert_exporter": "python",
   "pygments_lexer": "ipython3",
   "version": "3.10.9"
  }
 },
 "nbformat": 4,
 "nbformat_minor": 5
}
